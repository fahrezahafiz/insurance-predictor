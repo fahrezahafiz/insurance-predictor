{
  "nbformat": 4,
  "nbformat_minor": 0,
  "metadata": {
    "kernelspec": {
      "language": "python",
      "display_name": "Python 3",
      "name": "python3"
    },
    "language_info": {
      "pygments_lexer": "ipython3",
      "nbconvert_exporter": "python",
      "version": "3.6.4",
      "file_extension": ".py",
      "codemirror_mode": {
        "name": "ipython",
        "version": 3
      },
      "name": "python",
      "mimetype": "text/x-python"
    },
    "colab": {
      "name": "insurance.ipynb",
      "provenance": [],
      "toc_visible": true
    },
    "accelerator": "GPU"
  },
  "cells": [
    {
      "cell_type": "markdown",
      "metadata": {
        "id": "kXow8DFNPNBR"
      },
      "source": [
        "# Lifesurance: An Insurance Cost Predictor"
      ]
    },
    {
      "cell_type": "markdown",
      "metadata": {
        "id": "GV8UutyYPpQK"
      },
      "source": [
        "This is the Jupyter notebook of the machine learning implementation of Lifesurance from capstone project group B21-CAP0134 (Agrilogi). You can replicate the model that we've created by following along and running the code cells in this notebook."
      ]
    },
    {
      "cell_type": "code",
      "metadata": {
        "trusted": true,
        "id": "ejf9EetqBPDT"
      },
      "source": [
        "import numpy as np\n",
        "import pandas as pd\n",
        "import seaborn as sns\n",
        "\n",
        "import tensorflow as tf\n",
        "\n",
        "from tensorflow import feature_column\n",
        "from tensorflow.keras import layers\n",
        "from sklearn.model_selection import train_test_split"
      ],
      "execution_count": null,
      "outputs": []
    },
    {
      "cell_type": "markdown",
      "metadata": {
        "id": "75SVoQ2UBPDV"
      },
      "source": [
        "## Data"
      ]
    },
    {
      "cell_type": "markdown",
      "metadata": {
        "id": "zc1Tlm4k5Iwz"
      },
      "source": [
        "You can download the CSV [here](https://www.kaggle.com/mirichoi0218/insurance) and then upload it to this notebook. The CSV dataset will be read into a Pandas dataframe."
      ]
    },
    {
      "cell_type": "code",
      "metadata": {
        "trusted": true,
        "id": "1ZOEfz5DBPDV"
      },
      "source": [
        "dataframe = pd.read_csv(\"/content/insurance.csv\")"
      ],
      "execution_count": null,
      "outputs": []
    },
    {
      "cell_type": "markdown",
      "metadata": {
        "id": "qZOXYKvmBPDW"
      },
      "source": [
        "### Describe data, missing values, data types"
      ]
    },
    {
      "cell_type": "markdown",
      "metadata": {
        "id": "53SEPpib5s3e"
      },
      "source": [
        "There are six features in this dataset: age, sex, BMI (body mass index), children, smoker, and region. Charges is the target variable. Here we can see that the variables have different ranges of numbers, and we're going to work on that later."
      ]
    },
    {
      "cell_type": "code",
      "metadata": {
        "trusted": true,
        "colab": {
          "base_uri": "https://localhost:8080/",
          "height": 773
        },
        "id": "O931ajH9BPDW",
        "outputId": "bb0ababd-c43b-497e-f2f8-be67e50a583e"
      },
      "source": [
        "display(dataframe.head())\n",
        "display(dataframe.describe())\n",
        "display(dataframe.isna().any())\n",
        "print(\"Data Types:\")\n",
        "display(dataframe.dtypes)"
      ],
      "execution_count": null,
      "outputs": [
        {
          "output_type": "display_data",
          "data": {
            "text/html": [
              "<div>\n",
              "<style scoped>\n",
              "    .dataframe tbody tr th:only-of-type {\n",
              "        vertical-align: middle;\n",
              "    }\n",
              "\n",
              "    .dataframe tbody tr th {\n",
              "        vertical-align: top;\n",
              "    }\n",
              "\n",
              "    .dataframe thead th {\n",
              "        text-align: right;\n",
              "    }\n",
              "</style>\n",
              "<table border=\"1\" class=\"dataframe\">\n",
              "  <thead>\n",
              "    <tr style=\"text-align: right;\">\n",
              "      <th></th>\n",
              "      <th>age</th>\n",
              "      <th>sex</th>\n",
              "      <th>bmi</th>\n",
              "      <th>children</th>\n",
              "      <th>smoker</th>\n",
              "      <th>region</th>\n",
              "      <th>charges</th>\n",
              "    </tr>\n",
              "  </thead>\n",
              "  <tbody>\n",
              "    <tr>\n",
              "      <th>0</th>\n",
              "      <td>19</td>\n",
              "      <td>female</td>\n",
              "      <td>27.900</td>\n",
              "      <td>0</td>\n",
              "      <td>yes</td>\n",
              "      <td>southwest</td>\n",
              "      <td>16884.92400</td>\n",
              "    </tr>\n",
              "    <tr>\n",
              "      <th>1</th>\n",
              "      <td>18</td>\n",
              "      <td>male</td>\n",
              "      <td>33.770</td>\n",
              "      <td>1</td>\n",
              "      <td>no</td>\n",
              "      <td>southeast</td>\n",
              "      <td>1725.55230</td>\n",
              "    </tr>\n",
              "    <tr>\n",
              "      <th>2</th>\n",
              "      <td>28</td>\n",
              "      <td>male</td>\n",
              "      <td>33.000</td>\n",
              "      <td>3</td>\n",
              "      <td>no</td>\n",
              "      <td>southeast</td>\n",
              "      <td>4449.46200</td>\n",
              "    </tr>\n",
              "    <tr>\n",
              "      <th>3</th>\n",
              "      <td>33</td>\n",
              "      <td>male</td>\n",
              "      <td>22.705</td>\n",
              "      <td>0</td>\n",
              "      <td>no</td>\n",
              "      <td>northwest</td>\n",
              "      <td>21984.47061</td>\n",
              "    </tr>\n",
              "    <tr>\n",
              "      <th>4</th>\n",
              "      <td>32</td>\n",
              "      <td>male</td>\n",
              "      <td>28.880</td>\n",
              "      <td>0</td>\n",
              "      <td>no</td>\n",
              "      <td>northwest</td>\n",
              "      <td>3866.85520</td>\n",
              "    </tr>\n",
              "  </tbody>\n",
              "</table>\n",
              "</div>"
            ],
            "text/plain": [
              "   age     sex     bmi  children smoker     region      charges\n",
              "0   19  female  27.900         0    yes  southwest  16884.92400\n",
              "1   18    male  33.770         1     no  southeast   1725.55230\n",
              "2   28    male  33.000         3     no  southeast   4449.46200\n",
              "3   33    male  22.705         0     no  northwest  21984.47061\n",
              "4   32    male  28.880         0     no  northwest   3866.85520"
            ]
          },
          "metadata": {
            "tags": []
          }
        },
        {
          "output_type": "display_data",
          "data": {
            "text/html": [
              "<div>\n",
              "<style scoped>\n",
              "    .dataframe tbody tr th:only-of-type {\n",
              "        vertical-align: middle;\n",
              "    }\n",
              "\n",
              "    .dataframe tbody tr th {\n",
              "        vertical-align: top;\n",
              "    }\n",
              "\n",
              "    .dataframe thead th {\n",
              "        text-align: right;\n",
              "    }\n",
              "</style>\n",
              "<table border=\"1\" class=\"dataframe\">\n",
              "  <thead>\n",
              "    <tr style=\"text-align: right;\">\n",
              "      <th></th>\n",
              "      <th>age</th>\n",
              "      <th>bmi</th>\n",
              "      <th>children</th>\n",
              "      <th>charges</th>\n",
              "    </tr>\n",
              "  </thead>\n",
              "  <tbody>\n",
              "    <tr>\n",
              "      <th>count</th>\n",
              "      <td>1338.000000</td>\n",
              "      <td>1338.000000</td>\n",
              "      <td>1338.000000</td>\n",
              "      <td>1338.000000</td>\n",
              "    </tr>\n",
              "    <tr>\n",
              "      <th>mean</th>\n",
              "      <td>39.207025</td>\n",
              "      <td>30.663397</td>\n",
              "      <td>1.094918</td>\n",
              "      <td>13270.422265</td>\n",
              "    </tr>\n",
              "    <tr>\n",
              "      <th>std</th>\n",
              "      <td>14.049960</td>\n",
              "      <td>6.098187</td>\n",
              "      <td>1.205493</td>\n",
              "      <td>12110.011237</td>\n",
              "    </tr>\n",
              "    <tr>\n",
              "      <th>min</th>\n",
              "      <td>18.000000</td>\n",
              "      <td>15.960000</td>\n",
              "      <td>0.000000</td>\n",
              "      <td>1121.873900</td>\n",
              "    </tr>\n",
              "    <tr>\n",
              "      <th>25%</th>\n",
              "      <td>27.000000</td>\n",
              "      <td>26.296250</td>\n",
              "      <td>0.000000</td>\n",
              "      <td>4740.287150</td>\n",
              "    </tr>\n",
              "    <tr>\n",
              "      <th>50%</th>\n",
              "      <td>39.000000</td>\n",
              "      <td>30.400000</td>\n",
              "      <td>1.000000</td>\n",
              "      <td>9382.033000</td>\n",
              "    </tr>\n",
              "    <tr>\n",
              "      <th>75%</th>\n",
              "      <td>51.000000</td>\n",
              "      <td>34.693750</td>\n",
              "      <td>2.000000</td>\n",
              "      <td>16639.912515</td>\n",
              "    </tr>\n",
              "    <tr>\n",
              "      <th>max</th>\n",
              "      <td>64.000000</td>\n",
              "      <td>53.130000</td>\n",
              "      <td>5.000000</td>\n",
              "      <td>63770.428010</td>\n",
              "    </tr>\n",
              "  </tbody>\n",
              "</table>\n",
              "</div>"
            ],
            "text/plain": [
              "               age          bmi     children       charges\n",
              "count  1338.000000  1338.000000  1338.000000   1338.000000\n",
              "mean     39.207025    30.663397     1.094918  13270.422265\n",
              "std      14.049960     6.098187     1.205493  12110.011237\n",
              "min      18.000000    15.960000     0.000000   1121.873900\n",
              "25%      27.000000    26.296250     0.000000   4740.287150\n",
              "50%      39.000000    30.400000     1.000000   9382.033000\n",
              "75%      51.000000    34.693750     2.000000  16639.912515\n",
              "max      64.000000    53.130000     5.000000  63770.428010"
            ]
          },
          "metadata": {
            "tags": []
          }
        },
        {
          "output_type": "display_data",
          "data": {
            "text/plain": [
              "age         False\n",
              "sex         False\n",
              "bmi         False\n",
              "children    False\n",
              "smoker      False\n",
              "region      False\n",
              "charges     False\n",
              "dtype: bool"
            ]
          },
          "metadata": {
            "tags": []
          }
        },
        {
          "output_type": "stream",
          "text": [
            "Data Types:\n"
          ],
          "name": "stdout"
        },
        {
          "output_type": "display_data",
          "data": {
            "text/plain": [
              "age           int64\n",
              "sex          object\n",
              "bmi         float64\n",
              "children      int64\n",
              "smoker       object\n",
              "region       object\n",
              "charges     float64\n",
              "dtype: object"
            ]
          },
          "metadata": {
            "tags": []
          }
        }
      ]
    },
    {
      "cell_type": "markdown",
      "metadata": {
        "id": "TmgT5csu5eYu"
      },
      "source": [
        "In this plot we can analyze the correlation of every pair of variables"
      ]
    },
    {
      "cell_type": "code",
      "metadata": {
        "trusted": true,
        "id": "7HtN9P8nBPDW",
        "colab": {
          "base_uri": "https://localhost:8080/",
          "height": 743
        },
        "outputId": "6af957c2-34ee-44a7-de1c-5ea86b6bc64a"
      },
      "source": [
        "sns.pairplot(dataframe[['charges', 'age', 'bmi', 'children']], diag_kind='kde')"
      ],
      "execution_count": null,
      "outputs": [
        {
          "output_type": "execute_result",
          "data": {
            "text/plain": [
              "<seaborn.axisgrid.PairGrid at 0x7fe8f0e789d0>"
            ]
          },
          "metadata": {
            "tags": []
          },
          "execution_count": 4
        },
        {
          "output_type": "display_data",
          "data": {
            "image/png": "[encoded data removed]",
            "text/plain": [
              "<Figure size 720x720 with 20 Axes>"
            ]
          },
          "metadata": {
            "tags": [],
            "needs_background": "light"
          }
        }
      ]
    },
    {
      "cell_type": "markdown",
      "metadata": {
        "id": "WCCJz-HbBPDX"
      },
      "source": [
        "### Target variable"
      ]
    },
    {
      "cell_type": "markdown",
      "metadata": {
        "id": "VFu-_Q-L59_-"
      },
      "source": [
        "Neural networks tend to perform better on small numbers, so the target variable is divided by 1000 to bring down the numbers from thousands and ten thousands to ones and tens."
      ]
    },
    {
      "cell_type": "code",
      "metadata": {
        "trusted": true,
        "colab": {
          "base_uri": "https://localhost:8080/",
          "height": 204
        },
        "id": "zzfQWi_MBPDX",
        "outputId": "28deef21-35a7-4565-ac4a-828eea7e9928"
      },
      "source": [
        "dataframe['target'] = dataframe['charges']\n",
        "dataframe = dataframe.drop(columns=['charges'])\n",
        "\n",
        "dataframe['target'] = dataframe['target'] / 1000\n",
        "dataframe.head()"
      ],
      "execution_count": null,
      "outputs": [
        {
          "output_type": "execute_result",
          "data": {
            "text/html": [
              "<div>\n",
              "<style scoped>\n",
              "    .dataframe tbody tr th:only-of-type {\n",
              "        vertical-align: middle;\n",
              "    }\n",
              "\n",
              "    .dataframe tbody tr th {\n",
              "        vertical-align: top;\n",
              "    }\n",
              "\n",
              "    .dataframe thead th {\n",
              "        text-align: right;\n",
              "    }\n",
              "</style>\n",
              "<table border=\"1\" class=\"dataframe\">\n",
              "  <thead>\n",
              "    <tr style=\"text-align: right;\">\n",
              "      <th></th>\n",
              "      <th>age</th>\n",
              "      <th>sex</th>\n",
              "      <th>bmi</th>\n",
              "      <th>children</th>\n",
              "      <th>smoker</th>\n",
              "      <th>region</th>\n",
              "      <th>target</th>\n",
              "    </tr>\n",
              "  </thead>\n",
              "  <tbody>\n",
              "    <tr>\n",
              "      <th>0</th>\n",
              "      <td>19</td>\n",
              "      <td>female</td>\n",
              "      <td>27.900</td>\n",
              "      <td>0</td>\n",
              "      <td>yes</td>\n",
              "      <td>southwest</td>\n",
              "      <td>16.884924</td>\n",
              "    </tr>\n",
              "    <tr>\n",
              "      <th>1</th>\n",
              "      <td>18</td>\n",
              "      <td>male</td>\n",
              "      <td>33.770</td>\n",
              "      <td>1</td>\n",
              "      <td>no</td>\n",
              "      <td>southeast</td>\n",
              "      <td>1.725552</td>\n",
              "    </tr>\n",
              "    <tr>\n",
              "      <th>2</th>\n",
              "      <td>28</td>\n",
              "      <td>male</td>\n",
              "      <td>33.000</td>\n",
              "      <td>3</td>\n",
              "      <td>no</td>\n",
              "      <td>southeast</td>\n",
              "      <td>4.449462</td>\n",
              "    </tr>\n",
              "    <tr>\n",
              "      <th>3</th>\n",
              "      <td>33</td>\n",
              "      <td>male</td>\n",
              "      <td>22.705</td>\n",
              "      <td>0</td>\n",
              "      <td>no</td>\n",
              "      <td>northwest</td>\n",
              "      <td>21.984471</td>\n",
              "    </tr>\n",
              "    <tr>\n",
              "      <th>4</th>\n",
              "      <td>32</td>\n",
              "      <td>male</td>\n",
              "      <td>28.880</td>\n",
              "      <td>0</td>\n",
              "      <td>no</td>\n",
              "      <td>northwest</td>\n",
              "      <td>3.866855</td>\n",
              "    </tr>\n",
              "  </tbody>\n",
              "</table>\n",
              "</div>"
            ],
            "text/plain": [
              "   age     sex     bmi  children smoker     region     target\n",
              "0   19  female  27.900         0    yes  southwest  16.884924\n",
              "1   18    male  33.770         1     no  southeast   1.725552\n",
              "2   28    male  33.000         3     no  southeast   4.449462\n",
              "3   33    male  22.705         0     no  northwest  21.984471\n",
              "4   32    male  28.880         0     no  northwest   3.866855"
            ]
          },
          "metadata": {
            "tags": []
          },
          "execution_count": 5
        }
      ]
    },
    {
      "cell_type": "markdown",
      "metadata": {
        "id": "3BXeNfhgBPDY"
      },
      "source": [
        "### Split data"
      ]
    },
    {
      "cell_type": "markdown",
      "metadata": {
        "id": "k8rA08Ze5YAW"
      },
      "source": [
        "The data is split into train, val, and test sets with ratio of 8:1:1 respectively."
      ]
    },
    {
      "cell_type": "code",
      "metadata": {
        "trusted": true,
        "colab": {
          "base_uri": "https://localhost:8080/"
        },
        "id": "qo73MzMYBPDY",
        "outputId": "e5462c95-e1e0-4fe9-c863-5a1e44e28d32"
      },
      "source": [
        "train, test = train_test_split(dataframe, test_size=0.1)\n",
        "train, val = train_test_split(train, test_size=0.1)\n",
        "print(len(train), 'train examples')\n",
        "print(len(val), 'validation examples')\n",
        "print(len(test), 'test examples')"
      ],
      "execution_count": null,
      "outputs": [
        {
          "output_type": "stream",
          "text": [
            "1083 train examples\n",
            "121 validation examples\n",
            "134 test examples\n"
          ],
          "name": "stdout"
        }
      ]
    },
    {
      "cell_type": "markdown",
      "metadata": {
        "id": "GN_oB1wGBPDY"
      },
      "source": [
        "### Feature columns"
      ]
    },
    {
      "cell_type": "markdown",
      "metadata": {
        "id": "agEpuORh6l6j"
      },
      "source": [
        "As for the features, children is left as numerical value because the number is already small. Age and BMI are bucketized or binned to 20, 30, 40, and 50 boundaries and will have a one-hot encoding form. Meanwhile, sex, region, and smoker will be transformed into categorical variables."
      ]
    },
    {
      "cell_type": "code",
      "metadata": {
        "trusted": true,
        "id": "b8mmw1vlBPDY",
        "colab": {
          "base_uri": "https://localhost:8080/",
          "height": 68
        },
        "outputId": "5b15a992-9dc3-44bc-dfa4-1482dce6be3e"
      },
      "source": [
        "feature_columns = []\n",
        "\n",
        "# numeric cols\n",
        "feature_columns.append(feature_column.numeric_column('children'))\n",
        "# bucketized cols\n",
        "age = feature_column.numeric_column('age')\n",
        "age_buckets = feature_column.bucketized_column(age, boundaries=[20, 30, 40, 50])\n",
        "feature_columns.append(age_buckets)\n",
        "\n",
        "bmi = feature_column.numeric_column('bmi')\n",
        "bmi_buckets = feature_column.bucketized_column(bmi, boundaries=[20, 30, 40, 50])\n",
        "feature_columns.append(bmi_buckets)\n",
        "\n",
        "# indicator cols (categorical)\n",
        "indicator_column_names = ['sex', 'region', 'smoker']\n",
        "for col_name in indicator_column_names:\n",
        "  unique = dataframe[col_name].unique()\n",
        "  display(unique)\n",
        "  categorical_column = feature_column.categorical_column_with_vocabulary_list(\n",
        "      col_name, unique)\n",
        "  indicator_column = feature_column.indicator_column(categorical_column)\n",
        "  feature_columns.append(indicator_column)\n",
        "\n",
        "feature_layer = tf.keras.layers.DenseFeatures(feature_columns)"
      ],
      "execution_count": null,
      "outputs": [
        {
          "output_type": "display_data",
          "data": {
            "text/plain": [
              "array(['female', 'male'], dtype=object)"
            ]
          },
          "metadata": {
            "tags": []
          }
        },
        {
          "output_type": "display_data",
          "data": {
            "text/plain": [
              "array(['southwest', 'southeast', 'northwest', 'northeast'], dtype=object)"
            ]
          },
          "metadata": {
            "tags": []
          }
        },
        {
          "output_type": "display_data",
          "data": {
            "text/plain": [
              "array(['yes', 'no'], dtype=object)"
            ]
          },
          "metadata": {
            "tags": []
          }
        }
      ]
    },
    {
      "cell_type": "markdown",
      "metadata": {
        "id": "NL3aeeTpBPDZ"
      },
      "source": [
        "### To TF dataset"
      ]
    },
    {
      "cell_type": "markdown",
      "metadata": {
        "id": "GG7TPFjT7ANN"
      },
      "source": [
        "The pandas DataFrame is then converted into a TF dataset so it can be fed into the model. The dataset is shuffled (training only) and batched into 64-sized batches."
      ]
    },
    {
      "cell_type": "code",
      "metadata": {
        "trusted": true,
        "id": "mgNu01LKBPDZ"
      },
      "source": [
        "def df_to_dataset(dataframe, shuffle=True, batch_size=32):\n",
        "  dataframe = dataframe.copy()\n",
        "  labels = dataframe.pop('target')\n",
        "  ds = tf.data.Dataset.from_tensor_slices((dict(dataframe), labels))\n",
        "  if shuffle:\n",
        "    ds = ds.shuffle(buffer_size=len(dataframe))\n",
        "  ds = ds.batch(batch_size)\n",
        "  return ds\n",
        "\n",
        "batch_size = 64\n",
        "train_ds = df_to_dataset(train, batch_size=batch_size)\n",
        "val_ds = df_to_dataset(val, shuffle=False, batch_size=batch_size)\n",
        "test_ds = df_to_dataset(test, shuffle=False, batch_size=batch_size)"
      ],
      "execution_count": null,
      "outputs": []
    },
    {
      "cell_type": "markdown",
      "metadata": {
        "id": "OBfgonCJBPDa"
      },
      "source": [
        "## Create, compile, train model"
      ]
    },
    {
      "cell_type": "markdown",
      "metadata": {
        "id": "lpWef6qNBPDa"
      },
      "source": [
        "### Learning rate test"
      ]
    },
    {
      "cell_type": "markdown",
      "metadata": {
        "id": "JuZdgn3A7beP"
      },
      "source": [
        "The model consists of a number of layers:\n",
        "1. Feature layer that we made earlier,\n",
        "2. Lambda layer that expands the feature dimension so that it can go into the 1D convolutional layer\n",
        "3. The 1D Convolutional layer with 16 filters and kernel size of 5\n",
        "4. Flatten layer\n",
        "5. Couple of dense layers with units of 128 and 64 respectively\n",
        "6. Last dense layer which is the regressor layer that outputs the predicted medical cost (charge)\n",
        "\n",
        "Adam optimizer is used with `1e-4` learning rate and MAE is used as the loss function. The model then gets trained for 300 epochs."
      ]
    },
    {
      "cell_type": "code",
      "metadata": {
        "scrolled": true,
        "trusted": true,
        "id": "Mg9ed-_XBPDb",
        "colab": {
          "base_uri": "https://localhost:8080/"
        },
        "outputId": "3533ef70-2e1c-48ed-c2c1-497b0b65f7f5"
      },
      "source": [
        "model = tf.keras.Sequential([\n",
        "    feature_layer,\n",
        "    tf.keras.layers.Lambda(lambda x: tf.expand_dims(x, axis=-1)),\n",
        "    tf.keras.layers.Conv1D(16, 5),\n",
        "    tf.keras.layers.Flatten(),\n",
        "    layers.Dense(128, activation='relu'),\n",
        "    layers.Dense(64, activation='relu'),\n",
        "    layers.Dense(1),\n",
        "])\n",
        "\n",
        "\n",
        "optimizer = tf.keras.optimizers.Adam(learning_rate=1e-4)\n",
        "model.compile(loss='mae',\n",
        "              optimizer=optimizer)\n",
        "history = model.fit(train_ds, validation_data=val_ds, epochs=300)"
      ],
      "execution_count": null,
      "outputs": [
        {
          "output_type": "stream",
          "text": [
            "Epoch 1/300\n",
            "WARNING:tensorflow:Layers in a Sequential model should only have a single input tensor, but we receive a <class 'dict'> input: {'age': <tf.Tensor 'ExpandDims:0' shape=(None, 1) dtype=int64>, 'sex': <tf.Tensor 'ExpandDims_4:0' shape=(None, 1) dtype=string>, 'bmi': <tf.Tensor 'ExpandDims_1:0' shape=(None, 1) dtype=float64>, 'children': <tf.Tensor 'ExpandDims_2:0' shape=(None, 1) dtype=int64>, 'smoker': <tf.Tensor 'ExpandDims_5:0' shape=(None, 1) dtype=string>, 'region': <tf.Tensor 'ExpandDims_3:0' shape=(None, 1) dtype=string>}\n",
            "Consider rewriting this model with the Functional API.\n",
            "WARNING:tensorflow:Layers in a Sequential model should only have a single input tensor, but we receive a <class 'dict'> input: {'age': <tf.Tensor 'ExpandDims:0' shape=(None, 1) dtype=int64>, 'sex': <tf.Tensor 'ExpandDims_4:0' shape=(None, 1) dtype=string>, 'bmi': <tf.Tensor 'ExpandDims_1:0' shape=(None, 1) dtype=float64>, 'children': <tf.Tensor 'ExpandDims_2:0' shape=(None, 1) dtype=int64>, 'smoker': <tf.Tensor 'ExpandDims_5:0' shape=(None, 1) dtype=string>, 'region': <tf.Tensor 'ExpandDims_3:0' shape=(None, 1) dtype=string>}\n",
            "Consider rewriting this model with the Functional API.\n",
            "13/17 [=====================>........] - ETA: 0s - loss: 13.2799WARNING:tensorflow:Layers in a Sequential model should only have a single input tensor, but we receive a <class 'dict'> input: {'age': <tf.Tensor 'ExpandDims:0' shape=(None, 1) dtype=int64>, 'sex': <tf.Tensor 'ExpandDims_4:0' shape=(None, 1) dtype=string>, 'bmi': <tf.Tensor 'ExpandDims_1:0' shape=(None, 1) dtype=float64>, 'children': <tf.Tensor 'ExpandDims_2:0' shape=(None, 1) dtype=int64>, 'smoker': <tf.Tensor 'ExpandDims_5:0' shape=(None, 1) dtype=string>, 'region': <tf.Tensor 'ExpandDims_3:0' shape=(None, 1) dtype=string>}\n",
            "Consider rewriting this model with the Functional API.\n",
            "17/17 [==============================] - 1s 18ms/step - loss: 13.1253 - val_loss: 14.3401\n",
            "Epoch 2/300\n",
            "17/17 [==============================] - 0s 6ms/step - loss: 12.8359 - val_loss: 14.0474\n",
            "Epoch 3/300\n",
            "17/17 [==============================] - 0s 5ms/step - loss: 12.5319 - val_loss: 13.7340\n",
            "Epoch 4/300\n",
            "17/17 [==============================] - 0s 6ms/step - loss: 12.1982 - val_loss: 13.3824\n",
            "Epoch 5/300\n",
            "17/17 [==============================] - 0s 6ms/step - loss: 11.8236 - val_loss: 12.9851\n",
            "Epoch 6/300\n",
            "17/17 [==============================] - 0s 5ms/step - loss: 11.4075 - val_loss: 12.5620\n",
            "Epoch 7/300\n",
            "17/17 [==============================] - 0s 5ms/step - loss: 10.9621 - val_loss: 12.1190\n",
            "Epoch 8/300\n",
            "17/17 [==============================] - 0s 5ms/step - loss: 10.4950 - val_loss: 11.6956\n",
            "Epoch 9/300\n",
            "17/17 [==============================] - 0s 5ms/step - loss: 10.0452 - val_loss: 11.2827\n",
            "Epoch 10/300\n",
            "17/17 [==============================] - 0s 5ms/step - loss: 9.6234 - val_loss: 10.9005\n",
            "Epoch 11/300\n",
            "17/17 [==============================] - 0s 5ms/step - loss: 9.2750 - val_loss: 10.5582\n",
            "Epoch 12/300\n",
            "17/17 [==============================] - 0s 5ms/step - loss: 8.9821 - val_loss: 10.3212\n",
            "Epoch 13/300\n",
            "17/17 [==============================] - 0s 6ms/step - loss: 8.7634 - val_loss: 10.1076\n",
            "Epoch 14/300\n",
            "17/17 [==============================] - 0s 5ms/step - loss: 8.5816 - val_loss: 9.9517\n",
            "Epoch 15/300\n",
            "17/17 [==============================] - 0s 6ms/step - loss: 8.4230 - val_loss: 9.8240\n",
            "Epoch 16/300\n",
            "17/17 [==============================] - 0s 5ms/step - loss: 8.2910 - val_loss: 9.7124\n",
            "Epoch 17/300\n",
            "17/17 [==============================] - 0s 5ms/step - loss: 8.1714 - val_loss: 9.6059\n",
            "Epoch 18/300\n",
            "17/17 [==============================] - 0s 6ms/step - loss: 8.0608 - val_loss: 9.4964\n",
            "Epoch 19/300\n",
            "17/17 [==============================] - 0s 5ms/step - loss: 7.9510 - val_loss: 9.3844\n",
            "Epoch 20/300\n",
            "17/17 [==============================] - 0s 5ms/step - loss: 7.8437 - val_loss: 9.2677\n",
            "Epoch 21/300\n",
            "17/17 [==============================] - 0s 5ms/step - loss: 7.7322 - val_loss: 9.1530\n",
            "Epoch 22/300\n",
            "17/17 [==============================] - 0s 5ms/step - loss: 7.6171 - val_loss: 9.0330\n",
            "Epoch 23/300\n",
            "17/17 [==============================] - 0s 5ms/step - loss: 7.4993 - val_loss: 8.9048\n",
            "Epoch 24/300\n",
            "17/17 [==============================] - 0s 6ms/step - loss: 7.3783 - val_loss: 8.7724\n",
            "Epoch 25/300\n",
            "17/17 [==============================] - 0s 5ms/step - loss: 7.2548 - val_loss: 8.6300\n",
            "Epoch 26/300\n",
            "17/17 [==============================] - 0s 5ms/step - loss: 7.1251 - val_loss: 8.4793\n",
            "Epoch 27/300\n",
            "17/17 [==============================] - 0s 5ms/step - loss: 6.9868 - val_loss: 8.3288\n",
            "Epoch 28/300\n",
            "17/17 [==============================] - 0s 5ms/step - loss: 6.8440 - val_loss: 8.1688\n",
            "Epoch 29/300\n",
            "17/17 [==============================] - 0s 5ms/step - loss: 6.6960 - val_loss: 7.9972\n",
            "Epoch 30/300\n",
            "17/17 [==============================] - 0s 5ms/step - loss: 6.5409 - val_loss: 7.8235\n",
            "Epoch 31/300\n",
            "17/17 [==============================] - 0s 5ms/step - loss: 6.3818 - val_loss: 7.6391\n",
            "Epoch 32/300\n",
            "17/17 [==============================] - 0s 6ms/step - loss: 6.2178 - val_loss: 7.4420\n",
            "Epoch 33/300\n",
            "17/17 [==============================] - 0s 6ms/step - loss: 6.0481 - val_loss: 7.2408\n",
            "Epoch 34/300\n",
            "17/17 [==============================] - 0s 6ms/step - loss: 5.8717 - val_loss: 7.0170\n",
            "Epoch 35/300\n",
            "17/17 [==============================] - 0s 6ms/step - loss: 5.6854 - val_loss: 6.8099\n",
            "Epoch 36/300\n",
            "17/17 [==============================] - 0s 5ms/step - loss: 5.5012 - val_loss: 6.6030\n",
            "Epoch 37/300\n",
            "17/17 [==============================] - 0s 5ms/step - loss: 5.3122 - val_loss: 6.3622\n",
            "Epoch 38/300\n",
            "17/17 [==============================] - 0s 5ms/step - loss: 5.1206 - val_loss: 6.1216\n",
            "Epoch 39/300\n",
            "17/17 [==============================] - 0s 5ms/step - loss: 4.9233 - val_loss: 5.8708\n",
            "Epoch 40/300\n",
            "17/17 [==============================] - 0s 5ms/step - loss: 4.7446 - val_loss: 5.6618\n",
            "Epoch 41/300\n",
            "17/17 [==============================] - 0s 5ms/step - loss: 4.5793 - val_loss: 5.4244\n",
            "Epoch 42/300\n",
            "17/17 [==============================] - 0s 5ms/step - loss: 4.4332 - val_loss: 5.2297\n",
            "Epoch 43/300\n",
            "17/17 [==============================] - 0s 6ms/step - loss: 4.3204 - val_loss: 5.0456\n",
            "Epoch 44/300\n",
            "17/17 [==============================] - 0s 6ms/step - loss: 4.2179 - val_loss: 4.9112\n",
            "Epoch 45/300\n",
            "17/17 [==============================] - 0s 6ms/step - loss: 4.1444 - val_loss: 4.7832\n",
            "Epoch 46/300\n",
            "17/17 [==============================] - 0s 5ms/step - loss: 4.0763 - val_loss: 4.6739\n",
            "Epoch 47/300\n",
            "17/17 [==============================] - 0s 5ms/step - loss: 4.0240 - val_loss: 4.6083\n",
            "Epoch 48/300\n",
            "17/17 [==============================] - 0s 5ms/step - loss: 3.9835 - val_loss: 4.5339\n",
            "Epoch 49/300\n",
            "17/17 [==============================] - 0s 5ms/step - loss: 3.9505 - val_loss: 4.4873\n",
            "Epoch 50/300\n",
            "17/17 [==============================] - 0s 5ms/step - loss: 3.9252 - val_loss: 4.4503\n",
            "Epoch 51/300\n",
            "17/17 [==============================] - 0s 6ms/step - loss: 3.9032 - val_loss: 4.4137\n",
            "Epoch 52/300\n",
            "17/17 [==============================] - 0s 5ms/step - loss: 3.8863 - val_loss: 4.3820\n",
            "Epoch 53/300\n",
            "17/17 [==============================] - 0s 5ms/step - loss: 3.8741 - val_loss: 4.3570\n",
            "Epoch 54/300\n",
            "17/17 [==============================] - 0s 5ms/step - loss: 3.8600 - val_loss: 4.3249\n",
            "Epoch 55/300\n",
            "17/17 [==============================] - 0s 5ms/step - loss: 3.8433 - val_loss: 4.2929\n",
            "Epoch 56/300\n",
            "17/17 [==============================] - 0s 5ms/step - loss: 3.8268 - val_loss: 4.2724\n",
            "Epoch 57/300\n",
            "17/17 [==============================] - 0s 5ms/step - loss: 3.8177 - val_loss: 4.2434\n",
            "Epoch 58/300\n",
            "17/17 [==============================] - 0s 5ms/step - loss: 3.8019 - val_loss: 4.2174\n",
            "Epoch 59/300\n",
            "17/17 [==============================] - 0s 5ms/step - loss: 3.7875 - val_loss: 4.1886\n",
            "Epoch 60/300\n",
            "17/17 [==============================] - 0s 5ms/step - loss: 3.7754 - val_loss: 4.1634\n",
            "Epoch 61/300\n",
            "17/17 [==============================] - 0s 5ms/step - loss: 3.7577 - val_loss: 4.1377\n",
            "Epoch 62/300\n",
            "17/17 [==============================] - 0s 6ms/step - loss: 3.7454 - val_loss: 4.1137\n",
            "Epoch 63/300\n",
            "17/17 [==============================] - 0s 6ms/step - loss: 3.7315 - val_loss: 4.0979\n",
            "Epoch 64/300\n",
            "17/17 [==============================] - 0s 6ms/step - loss: 3.7200 - val_loss: 4.0717\n",
            "Epoch 65/300\n",
            "17/17 [==============================] - 0s 5ms/step - loss: 3.7111 - val_loss: 4.0429\n",
            "Epoch 66/300\n",
            "17/17 [==============================] - 0s 5ms/step - loss: 3.6923 - val_loss: 4.0164\n",
            "Epoch 67/300\n",
            "17/17 [==============================] - 0s 5ms/step - loss: 3.6772 - val_loss: 3.9910\n",
            "Epoch 68/300\n",
            "17/17 [==============================] - 0s 6ms/step - loss: 3.6632 - val_loss: 3.9632\n",
            "Epoch 69/300\n",
            "17/17 [==============================] - 0s 5ms/step - loss: 3.6524 - val_loss: 3.9352\n",
            "Epoch 70/300\n",
            "17/17 [==============================] - 0s 5ms/step - loss: 3.6381 - val_loss: 3.9074\n",
            "Epoch 71/300\n",
            "17/17 [==============================] - 0s 5ms/step - loss: 3.6216 - val_loss: 3.8846\n",
            "Epoch 72/300\n",
            "17/17 [==============================] - 0s 7ms/step - loss: 3.6083 - val_loss: 3.8559\n",
            "Epoch 73/300\n",
            "17/17 [==============================] - 0s 5ms/step - loss: 3.5931 - val_loss: 3.8286\n",
            "Epoch 74/300\n",
            "17/17 [==============================] - 0s 5ms/step - loss: 3.5768 - val_loss: 3.7999\n",
            "Epoch 75/300\n",
            "17/17 [==============================] - 0s 5ms/step - loss: 3.5646 - val_loss: 3.7608\n",
            "Epoch 76/300\n",
            "17/17 [==============================] - 0s 5ms/step - loss: 3.5470 - val_loss: 3.7329\n",
            "Epoch 77/300\n",
            "17/17 [==============================] - 0s 5ms/step - loss: 3.5302 - val_loss: 3.7047\n",
            "Epoch 78/300\n",
            "17/17 [==============================] - 0s 5ms/step - loss: 3.5151 - val_loss: 3.6679\n",
            "Epoch 79/300\n",
            "17/17 [==============================] - 0s 5ms/step - loss: 3.5044 - val_loss: 3.6485\n",
            "Epoch 80/300\n",
            "17/17 [==============================] - 0s 6ms/step - loss: 3.4854 - val_loss: 3.6040\n",
            "Epoch 81/300\n",
            "17/17 [==============================] - 0s 6ms/step - loss: 3.4644 - val_loss: 3.5729\n",
            "Epoch 82/300\n",
            "17/17 [==============================] - 0s 5ms/step - loss: 3.4446 - val_loss: 3.5386\n",
            "Epoch 83/300\n",
            "17/17 [==============================] - 0s 5ms/step - loss: 3.4291 - val_loss: 3.4985\n",
            "Epoch 84/300\n",
            "17/17 [==============================] - 0s 5ms/step - loss: 3.4117 - val_loss: 3.4655\n",
            "Epoch 85/300\n",
            "17/17 [==============================] - 0s 5ms/step - loss: 3.3964 - val_loss: 3.4180\n",
            "Epoch 86/300\n",
            "17/17 [==============================] - 0s 6ms/step - loss: 3.3735 - val_loss: 3.3793\n",
            "Epoch 87/300\n",
            "17/17 [==============================] - 0s 6ms/step - loss: 3.3511 - val_loss: 3.3387\n",
            "Epoch 88/300\n",
            "17/17 [==============================] - 0s 6ms/step - loss: 3.3325 - val_loss: 3.3011\n",
            "Epoch 89/300\n",
            "17/17 [==============================] - 0s 5ms/step - loss: 3.3103 - val_loss: 3.2619\n",
            "Epoch 90/300\n",
            "17/17 [==============================] - 0s 5ms/step - loss: 3.2900 - val_loss: 3.2097\n",
            "Epoch 91/300\n",
            "17/17 [==============================] - 0s 6ms/step - loss: 3.2649 - val_loss: 3.1766\n",
            "Epoch 92/300\n",
            "17/17 [==============================] - 0s 5ms/step - loss: 3.2445 - val_loss: 3.1380\n",
            "Epoch 93/300\n",
            "17/17 [==============================] - 0s 5ms/step - loss: 3.2206 - val_loss: 3.0961\n",
            "Epoch 94/300\n",
            "17/17 [==============================] - 0s 5ms/step - loss: 3.1991 - val_loss: 3.0585\n",
            "Epoch 95/300\n",
            "17/17 [==============================] - 0s 6ms/step - loss: 3.1771 - val_loss: 2.9989\n",
            "Epoch 96/300\n",
            "17/17 [==============================] - 0s 5ms/step - loss: 3.1516 - val_loss: 2.9635\n",
            "Epoch 97/300\n",
            "17/17 [==============================] - 0s 5ms/step - loss: 3.1294 - val_loss: 2.9078\n",
            "Epoch 98/300\n",
            "17/17 [==============================] - 0s 5ms/step - loss: 3.1039 - val_loss: 2.8719\n",
            "Epoch 99/300\n",
            "17/17 [==============================] - 0s 6ms/step - loss: 3.0775 - val_loss: 2.8118\n",
            "Epoch 100/300\n",
            "17/17 [==============================] - 0s 5ms/step - loss: 3.0504 - val_loss: 2.7783\n",
            "Epoch 101/300\n",
            "17/17 [==============================] - 0s 6ms/step - loss: 3.0298 - val_loss: 2.7235\n",
            "Epoch 102/300\n",
            "17/17 [==============================] - 0s 6ms/step - loss: 3.0014 - val_loss: 2.6791\n",
            "Epoch 103/300\n",
            "17/17 [==============================] - 0s 6ms/step - loss: 2.9754 - val_loss: 2.6290\n",
            "Epoch 104/300\n",
            "17/17 [==============================] - 0s 5ms/step - loss: 2.9454 - val_loss: 2.6037\n",
            "Epoch 105/300\n",
            "17/17 [==============================] - 0s 5ms/step - loss: 2.9228 - val_loss: 2.5637\n",
            "Epoch 106/300\n",
            "17/17 [==============================] - 0s 5ms/step - loss: 2.8989 - val_loss: 2.5335\n",
            "Epoch 107/300\n",
            "17/17 [==============================] - 0s 6ms/step - loss: 2.8751 - val_loss: 2.4895\n",
            "Epoch 108/300\n",
            "17/17 [==============================] - 0s 5ms/step - loss: 2.8478 - val_loss: 2.4435\n",
            "Epoch 109/300\n",
            "17/17 [==============================] - 0s 5ms/step - loss: 2.8244 - val_loss: 2.4559\n",
            "Epoch 110/300\n",
            "17/17 [==============================] - 0s 5ms/step - loss: 2.8002 - val_loss: 2.3872\n",
            "Epoch 111/300\n",
            "17/17 [==============================] - 0s 5ms/step - loss: 2.7787 - val_loss: 2.3655\n",
            "Epoch 112/300\n",
            "17/17 [==============================] - 0s 5ms/step - loss: 2.7562 - val_loss: 2.3529\n",
            "Epoch 113/300\n",
            "17/17 [==============================] - 0s 5ms/step - loss: 2.7338 - val_loss: 2.3429\n",
            "Epoch 114/300\n",
            "17/17 [==============================] - 0s 6ms/step - loss: 2.7105 - val_loss: 2.3122\n",
            "Epoch 115/300\n",
            "17/17 [==============================] - 0s 5ms/step - loss: 2.6881 - val_loss: 2.3012\n",
            "Epoch 116/300\n",
            "17/17 [==============================] - 0s 5ms/step - loss: 2.6660 - val_loss: 2.2900\n",
            "Epoch 117/300\n",
            "17/17 [==============================] - 0s 6ms/step - loss: 2.6458 - val_loss: 2.2704\n",
            "Epoch 118/300\n",
            "17/17 [==============================] - 0s 5ms/step - loss: 2.6236 - val_loss: 2.2594\n",
            "Epoch 119/300\n",
            "17/17 [==============================] - 0s 6ms/step - loss: 2.6037 - val_loss: 2.2594\n",
            "Epoch 120/300\n",
            "17/17 [==============================] - 0s 5ms/step - loss: 2.5802 - val_loss: 2.2314\n",
            "Epoch 121/300\n",
            "17/17 [==============================] - 0s 5ms/step - loss: 2.5595 - val_loss: 2.2300\n",
            "Epoch 122/300\n",
            "17/17 [==============================] - 0s 5ms/step - loss: 2.5390 - val_loss: 2.2138\n",
            "Epoch 123/300\n",
            "17/17 [==============================] - 0s 5ms/step - loss: 2.5196 - val_loss: 2.1892\n",
            "Epoch 124/300\n",
            "17/17 [==============================] - 0s 5ms/step - loss: 2.4929 - val_loss: 2.1735\n",
            "Epoch 125/300\n",
            "17/17 [==============================] - 0s 6ms/step - loss: 2.4736 - val_loss: 2.1716\n",
            "Epoch 126/300\n",
            "17/17 [==============================] - 0s 6ms/step - loss: 2.4567 - val_loss: 2.1820\n",
            "Epoch 127/300\n",
            "17/17 [==============================] - 0s 5ms/step - loss: 2.4300 - val_loss: 2.1243\n",
            "Epoch 128/300\n",
            "17/17 [==============================] - 0s 6ms/step - loss: 2.4066 - val_loss: 2.1204\n",
            "Epoch 129/300\n",
            "17/17 [==============================] - 0s 5ms/step - loss: 2.3911 - val_loss: 2.0977\n",
            "Epoch 130/300\n",
            "17/17 [==============================] - 0s 5ms/step - loss: 2.3780 - val_loss: 2.0824\n",
            "Epoch 131/300\n",
            "17/17 [==============================] - 0s 5ms/step - loss: 2.3545 - val_loss: 2.0904\n",
            "Epoch 132/300\n",
            "17/17 [==============================] - 0s 6ms/step - loss: 2.3382 - val_loss: 2.0978\n",
            "Epoch 133/300\n",
            "17/17 [==============================] - 0s 6ms/step - loss: 2.3228 - val_loss: 2.0882\n",
            "Epoch 134/300\n",
            "17/17 [==============================] - 0s 5ms/step - loss: 2.3013 - val_loss: 2.0401\n",
            "Epoch 135/300\n",
            "17/17 [==============================] - 0s 6ms/step - loss: 2.2962 - val_loss: 2.0743\n",
            "Epoch 136/300\n",
            "17/17 [==============================] - 0s 6ms/step - loss: 2.2740 - val_loss: 2.0468\n",
            "Epoch 137/300\n",
            "17/17 [==============================] - 0s 5ms/step - loss: 2.2556 - val_loss: 2.0181\n",
            "Epoch 138/300\n",
            "17/17 [==============================] - 0s 6ms/step - loss: 2.2398 - val_loss: 2.0147\n",
            "Epoch 139/300\n",
            "17/17 [==============================] - 0s 5ms/step - loss: 2.2296 - val_loss: 2.0072\n",
            "Epoch 140/300\n",
            "17/17 [==============================] - 0s 6ms/step - loss: 2.2186 - val_loss: 2.0222\n",
            "Epoch 141/300\n",
            "17/17 [==============================] - 0s 6ms/step - loss: 2.2107 - val_loss: 1.9953\n",
            "Epoch 142/300\n",
            "17/17 [==============================] - 0s 5ms/step - loss: 2.2024 - val_loss: 1.9946\n",
            "Epoch 143/300\n",
            "17/17 [==============================] - 0s 5ms/step - loss: 2.1922 - val_loss: 1.9967\n",
            "Epoch 144/300\n",
            "17/17 [==============================] - 0s 6ms/step - loss: 2.1863 - val_loss: 2.0067\n",
            "Epoch 145/300\n",
            "17/17 [==============================] - 0s 6ms/step - loss: 2.1799 - val_loss: 1.9883\n",
            "Epoch 146/300\n",
            "17/17 [==============================] - 0s 6ms/step - loss: 2.1737 - val_loss: 1.9734\n",
            "Epoch 147/300\n",
            "17/17 [==============================] - 0s 6ms/step - loss: 2.1677 - val_loss: 1.9758\n",
            "Epoch 148/300\n",
            "17/17 [==============================] - 0s 5ms/step - loss: 2.1659 - val_loss: 1.9719\n",
            "Epoch 149/300\n",
            "17/17 [==============================] - 0s 6ms/step - loss: 2.1606 - val_loss: 1.9966\n",
            "Epoch 150/300\n",
            "17/17 [==============================] - 0s 6ms/step - loss: 2.1548 - val_loss: 2.0089\n",
            "Epoch 151/300\n",
            "17/17 [==============================] - 0s 5ms/step - loss: 2.1542 - val_loss: 1.9612\n",
            "Epoch 152/300\n",
            "17/17 [==============================] - 0s 5ms/step - loss: 2.1507 - val_loss: 1.9844\n",
            "Epoch 153/300\n",
            "17/17 [==============================] - 0s 6ms/step - loss: 2.1454 - val_loss: 1.9759\n",
            "Epoch 154/300\n",
            "17/17 [==============================] - 0s 6ms/step - loss: 2.1384 - val_loss: 1.9842\n",
            "Epoch 155/300\n",
            "17/17 [==============================] - 0s 5ms/step - loss: 2.1329 - val_loss: 1.9908\n",
            "Epoch 156/300\n",
            "17/17 [==============================] - 0s 6ms/step - loss: 2.1364 - val_loss: 2.0214\n",
            "Epoch 157/300\n",
            "17/17 [==============================] - 0s 5ms/step - loss: 2.1308 - val_loss: 2.0027\n",
            "Epoch 158/300\n",
            "17/17 [==============================] - 0s 5ms/step - loss: 2.1263 - val_loss: 2.0033\n",
            "Epoch 159/300\n",
            "17/17 [==============================] - 0s 6ms/step - loss: 2.1305 - val_loss: 1.9643\n",
            "Epoch 160/300\n",
            "17/17 [==============================] - 0s 5ms/step - loss: 2.1273 - val_loss: 1.9673\n",
            "Epoch 161/300\n",
            "17/17 [==============================] - 0s 5ms/step - loss: 2.1190 - val_loss: 1.9789\n",
            "Epoch 162/300\n",
            "17/17 [==============================] - 0s 6ms/step - loss: 2.1130 - val_loss: 1.9874\n",
            "Epoch 163/300\n",
            "17/17 [==============================] - 0s 5ms/step - loss: 2.1105 - val_loss: 1.9958\n",
            "Epoch 164/300\n",
            "17/17 [==============================] - 0s 5ms/step - loss: 2.1151 - val_loss: 2.0146\n",
            "Epoch 165/300\n",
            "17/17 [==============================] - 0s 5ms/step - loss: 2.1094 - val_loss: 2.0074\n",
            "Epoch 166/300\n",
            "17/17 [==============================] - 0s 7ms/step - loss: 2.1165 - val_loss: 1.9656\n",
            "Epoch 167/300\n",
            "17/17 [==============================] - 0s 6ms/step - loss: 2.1096 - val_loss: 1.9794\n",
            "Epoch 168/300\n",
            "17/17 [==============================] - 0s 5ms/step - loss: 2.0981 - val_loss: 1.9784\n",
            "Epoch 169/300\n",
            "17/17 [==============================] - 0s 5ms/step - loss: 2.0968 - val_loss: 1.9964\n",
            "Epoch 170/300\n",
            "17/17 [==============================] - 0s 5ms/step - loss: 2.0946 - val_loss: 1.9817\n",
            "Epoch 171/300\n",
            "17/17 [==============================] - 0s 6ms/step - loss: 2.0929 - val_loss: 1.9797\n",
            "Epoch 172/300\n",
            "17/17 [==============================] - 0s 5ms/step - loss: 2.0916 - val_loss: 1.9697\n",
            "Epoch 173/300\n",
            "17/17 [==============================] - 0s 6ms/step - loss: 2.0915 - val_loss: 1.9848\n",
            "Epoch 174/300\n",
            "17/17 [==============================] - 0s 5ms/step - loss: 2.0863 - val_loss: 1.9972\n",
            "Epoch 175/300\n",
            "17/17 [==============================] - 0s 6ms/step - loss: 2.0871 - val_loss: 1.9915\n",
            "Epoch 176/300\n",
            "17/17 [==============================] - 0s 5ms/step - loss: 2.0830 - val_loss: 1.9952\n",
            "Epoch 177/300\n",
            "17/17 [==============================] - 0s 5ms/step - loss: 2.0819 - val_loss: 1.9860\n",
            "Epoch 178/300\n",
            "17/17 [==============================] - 0s 6ms/step - loss: 2.0844 - val_loss: 1.9779\n",
            "Epoch 179/300\n",
            "17/17 [==============================] - 0s 5ms/step - loss: 2.0815 - val_loss: 1.9776\n",
            "Epoch 180/300\n",
            "17/17 [==============================] - 0s 5ms/step - loss: 2.0768 - val_loss: 1.9682\n",
            "Epoch 181/300\n",
            "17/17 [==============================] - 0s 6ms/step - loss: 2.0758 - val_loss: 1.9926\n",
            "Epoch 182/300\n",
            "17/17 [==============================] - 0s 5ms/step - loss: 2.0739 - val_loss: 1.9848\n",
            "Epoch 183/300\n",
            "17/17 [==============================] - 0s 6ms/step - loss: 2.0760 - val_loss: 1.9684\n",
            "Epoch 184/300\n",
            "17/17 [==============================] - 0s 6ms/step - loss: 2.0699 - val_loss: 1.9758\n",
            "Epoch 185/300\n",
            "17/17 [==============================] - 0s 6ms/step - loss: 2.0699 - val_loss: 1.9762\n",
            "Epoch 186/300\n",
            "17/17 [==============================] - 0s 5ms/step - loss: 2.0706 - val_loss: 1.9717\n",
            "Epoch 187/300\n",
            "17/17 [==============================] - 0s 5ms/step - loss: 2.0703 - val_loss: 1.9584\n",
            "Epoch 188/300\n",
            "17/17 [==============================] - 0s 5ms/step - loss: 2.0651 - val_loss: 1.9928\n",
            "Epoch 189/300\n",
            "17/17 [==============================] - 0s 6ms/step - loss: 2.0654 - val_loss: 1.9944\n",
            "Epoch 190/300\n",
            "17/17 [==============================] - 0s 5ms/step - loss: 2.0633 - val_loss: 1.9634\n",
            "Epoch 191/300\n",
            "17/17 [==============================] - 0s 5ms/step - loss: 2.0656 - val_loss: 2.0177\n",
            "Epoch 192/300\n",
            "17/17 [==============================] - 0s 5ms/step - loss: 2.0652 - val_loss: 1.9668\n",
            "Epoch 193/300\n",
            "17/17 [==============================] - 0s 5ms/step - loss: 2.0588 - val_loss: 1.9775\n",
            "Epoch 194/300\n",
            "17/17 [==============================] - 0s 6ms/step - loss: 2.0594 - val_loss: 1.9861\n",
            "Epoch 195/300\n",
            "17/17 [==============================] - 0s 5ms/step - loss: 2.0568 - val_loss: 1.9786\n",
            "Epoch 196/300\n",
            "17/17 [==============================] - 0s 5ms/step - loss: 2.0613 - val_loss: 1.9903\n",
            "Epoch 197/300\n",
            "17/17 [==============================] - 0s 6ms/step - loss: 2.0573 - val_loss: 1.9783\n",
            "Epoch 198/300\n",
            "17/17 [==============================] - 0s 6ms/step - loss: 2.0578 - val_loss: 1.9831\n",
            "Epoch 199/300\n",
            "17/17 [==============================] - 0s 5ms/step - loss: 2.0541 - val_loss: 1.9739\n",
            "Epoch 200/300\n",
            "17/17 [==============================] - 0s 6ms/step - loss: 2.0563 - val_loss: 1.9641\n",
            "Epoch 201/300\n",
            "17/17 [==============================] - 0s 6ms/step - loss: 2.0514 - val_loss: 1.9781\n",
            "Epoch 202/300\n",
            "17/17 [==============================] - 0s 6ms/step - loss: 2.0510 - val_loss: 1.9618\n",
            "Epoch 203/300\n",
            "17/17 [==============================] - 0s 6ms/step - loss: 2.0506 - val_loss: 1.9607\n",
            "Epoch 204/300\n",
            "17/17 [==============================] - 0s 5ms/step - loss: 2.0470 - val_loss: 1.9678\n",
            "Epoch 205/300\n",
            "17/17 [==============================] - 0s 5ms/step - loss: 2.0480 - val_loss: 1.9758\n",
            "Epoch 206/300\n",
            "17/17 [==============================] - 0s 5ms/step - loss: 2.0465 - val_loss: 1.9601\n",
            "Epoch 207/300\n",
            "17/17 [==============================] - 0s 5ms/step - loss: 2.0455 - val_loss: 1.9808\n",
            "Epoch 208/300\n",
            "17/17 [==============================] - 0s 6ms/step - loss: 2.0516 - val_loss: 1.9890\n",
            "Epoch 209/300\n",
            "17/17 [==============================] - 0s 5ms/step - loss: 2.0474 - val_loss: 1.9693\n",
            "Epoch 210/300\n",
            "17/17 [==============================] - 0s 5ms/step - loss: 2.0454 - val_loss: 1.9532\n",
            "Epoch 211/300\n",
            "17/17 [==============================] - 0s 6ms/step - loss: 2.0423 - val_loss: 1.9430\n",
            "Epoch 212/300\n",
            "17/17 [==============================] - 0s 6ms/step - loss: 2.0446 - val_loss: 1.9456\n",
            "Epoch 213/300\n",
            "17/17 [==============================] - 0s 6ms/step - loss: 2.0423 - val_loss: 1.9594\n",
            "Epoch 214/300\n",
            "17/17 [==============================] - 0s 5ms/step - loss: 2.0378 - val_loss: 1.9560\n",
            "Epoch 215/300\n",
            "17/17 [==============================] - 0s 6ms/step - loss: 2.0388 - val_loss: 1.9577\n",
            "Epoch 216/300\n",
            "17/17 [==============================] - 0s 5ms/step - loss: 2.0373 - val_loss: 1.9559\n",
            "Epoch 217/300\n",
            "17/17 [==============================] - 0s 6ms/step - loss: 2.0370 - val_loss: 1.9557\n",
            "Epoch 218/300\n",
            "17/17 [==============================] - 0s 5ms/step - loss: 2.0345 - val_loss: 1.9597\n",
            "Epoch 219/300\n",
            "17/17 [==============================] - 0s 6ms/step - loss: 2.0329 - val_loss: 1.9546\n",
            "Epoch 220/300\n",
            "17/17 [==============================] - 0s 5ms/step - loss: 2.0338 - val_loss: 1.9514\n",
            "Epoch 221/300\n",
            "17/17 [==============================] - 0s 6ms/step - loss: 2.0327 - val_loss: 1.9474\n",
            "Epoch 222/300\n",
            "17/17 [==============================] - 0s 5ms/step - loss: 2.0317 - val_loss: 1.9599\n",
            "Epoch 223/300\n",
            "17/17 [==============================] - 0s 6ms/step - loss: 2.0302 - val_loss: 1.9622\n",
            "Epoch 224/300\n",
            "17/17 [==============================] - 0s 6ms/step - loss: 2.0293 - val_loss: 1.9761\n",
            "Epoch 225/300\n",
            "17/17 [==============================] - 0s 6ms/step - loss: 2.0315 - val_loss: 1.9480\n",
            "Epoch 226/300\n",
            "17/17 [==============================] - 0s 6ms/step - loss: 2.0309 - val_loss: 1.9529\n",
            "Epoch 227/300\n",
            "17/17 [==============================] - 0s 6ms/step - loss: 2.0275 - val_loss: 1.9557\n",
            "Epoch 228/300\n",
            "17/17 [==============================] - 0s 5ms/step - loss: 2.0262 - val_loss: 1.9731\n",
            "Epoch 229/300\n",
            "17/17 [==============================] - 0s 6ms/step - loss: 2.0300 - val_loss: 1.9670\n",
            "Epoch 230/300\n",
            "17/17 [==============================] - 0s 6ms/step - loss: 2.0244 - val_loss: 1.9518\n",
            "Epoch 231/300\n",
            "17/17 [==============================] - 0s 5ms/step - loss: 2.0227 - val_loss: 1.9477\n",
            "Epoch 232/300\n",
            "17/17 [==============================] - 0s 6ms/step - loss: 2.0239 - val_loss: 1.9468\n",
            "Epoch 233/300\n",
            "17/17 [==============================] - 0s 6ms/step - loss: 2.0230 - val_loss: 1.9431\n",
            "Epoch 234/300\n",
            "17/17 [==============================] - 0s 5ms/step - loss: 2.0224 - val_loss: 1.9357\n",
            "Epoch 235/300\n",
            "17/17 [==============================] - 0s 6ms/step - loss: 2.0237 - val_loss: 1.9476\n",
            "Epoch 236/300\n",
            "17/17 [==============================] - 0s 5ms/step - loss: 2.0233 - val_loss: 1.9524\n",
            "Epoch 237/300\n",
            "17/17 [==============================] - 0s 5ms/step - loss: 2.0184 - val_loss: 1.9615\n",
            "Epoch 238/300\n",
            "17/17 [==============================] - 0s 5ms/step - loss: 2.0194 - val_loss: 1.9546\n",
            "Epoch 239/300\n",
            "17/17 [==============================] - 0s 6ms/step - loss: 2.0177 - val_loss: 1.9725\n",
            "Epoch 240/300\n",
            "17/17 [==============================] - 0s 6ms/step - loss: 2.0174 - val_loss: 1.9427\n",
            "Epoch 241/300\n",
            "17/17 [==============================] - 0s 6ms/step - loss: 2.0170 - val_loss: 1.9463\n",
            "Epoch 242/300\n",
            "17/17 [==============================] - 0s 5ms/step - loss: 2.0155 - val_loss: 1.9483\n",
            "Epoch 243/300\n",
            "17/17 [==============================] - 0s 6ms/step - loss: 2.0144 - val_loss: 1.9552\n",
            "Epoch 244/300\n",
            "17/17 [==============================] - 0s 6ms/step - loss: 2.0166 - val_loss: 1.9485\n",
            "Epoch 245/300\n",
            "17/17 [==============================] - 0s 5ms/step - loss: 2.0148 - val_loss: 1.9425\n",
            "Epoch 246/300\n",
            "17/17 [==============================] - 0s 6ms/step - loss: 2.0262 - val_loss: 1.9321\n",
            "Epoch 247/300\n",
            "17/17 [==============================] - 0s 6ms/step - loss: 2.0195 - val_loss: 1.9412\n",
            "Epoch 248/300\n",
            "17/17 [==============================] - 0s 6ms/step - loss: 2.0177 - val_loss: 1.9447\n",
            "Epoch 249/300\n",
            "17/17 [==============================] - 0s 6ms/step - loss: 2.0108 - val_loss: 1.9581\n",
            "Epoch 250/300\n",
            "17/17 [==============================] - 0s 6ms/step - loss: 2.0137 - val_loss: 1.9592\n",
            "Epoch 251/300\n",
            "17/17 [==============================] - 0s 6ms/step - loss: 2.0104 - val_loss: 1.9453\n",
            "Epoch 252/300\n",
            "17/17 [==============================] - 0s 5ms/step - loss: 2.0073 - val_loss: 1.9420\n",
            "Epoch 253/300\n",
            "17/17 [==============================] - 0s 6ms/step - loss: 2.0065 - val_loss: 1.9430\n",
            "Epoch 254/300\n",
            "17/17 [==============================] - 0s 6ms/step - loss: 2.0091 - val_loss: 1.9376\n",
            "Epoch 255/300\n",
            "17/17 [==============================] - 0s 6ms/step - loss: 2.0076 - val_loss: 1.9538\n",
            "Epoch 256/300\n",
            "17/17 [==============================] - 0s 6ms/step - loss: 2.0046 - val_loss: 1.9341\n",
            "Epoch 257/300\n",
            "17/17 [==============================] - 0s 7ms/step - loss: 2.0080 - val_loss: 1.9375\n",
            "Epoch 258/300\n",
            "17/17 [==============================] - 0s 6ms/step - loss: 2.0058 - val_loss: 1.9420\n",
            "Epoch 259/300\n",
            "17/17 [==============================] - 0s 6ms/step - loss: 2.0037 - val_loss: 1.9481\n",
            "Epoch 260/300\n",
            "17/17 [==============================] - 0s 6ms/step - loss: 2.0029 - val_loss: 1.9375\n",
            "Epoch 261/300\n",
            "17/17 [==============================] - 0s 6ms/step - loss: 2.0036 - val_loss: 1.9462\n",
            "Epoch 262/300\n",
            "17/17 [==============================] - 0s 6ms/step - loss: 2.0019 - val_loss: 1.9580\n",
            "Epoch 263/300\n",
            "17/17 [==============================] - 0s 6ms/step - loss: 2.0053 - val_loss: 1.9469\n",
            "Epoch 264/300\n",
            "17/17 [==============================] - 0s 6ms/step - loss: 2.0032 - val_loss: 1.9601\n",
            "Epoch 265/300\n",
            "17/17 [==============================] - 0s 5ms/step - loss: 2.0008 - val_loss: 1.9406\n",
            "Epoch 266/300\n",
            "17/17 [==============================] - 0s 6ms/step - loss: 2.0008 - val_loss: 1.9628\n",
            "Epoch 267/300\n",
            "17/17 [==============================] - 0s 6ms/step - loss: 1.9975 - val_loss: 1.9448\n",
            "Epoch 268/300\n",
            "17/17 [==============================] - 0s 6ms/step - loss: 2.0003 - val_loss: 1.9328\n",
            "Epoch 269/300\n",
            "17/17 [==============================] - 0s 6ms/step - loss: 1.9984 - val_loss: 1.9579\n",
            "Epoch 270/300\n",
            "17/17 [==============================] - 0s 6ms/step - loss: 2.0028 - val_loss: 1.9758\n",
            "Epoch 271/300\n",
            "17/17 [==============================] - 0s 6ms/step - loss: 2.0053 - val_loss: 1.9680\n",
            "Epoch 272/300\n",
            "17/17 [==============================] - 0s 5ms/step - loss: 1.9972 - val_loss: 1.9764\n",
            "Epoch 273/300\n",
            "17/17 [==============================] - 0s 6ms/step - loss: 1.9957 - val_loss: 1.9376\n",
            "Epoch 274/300\n",
            "17/17 [==============================] - 0s 5ms/step - loss: 1.9971 - val_loss: 1.9461\n",
            "Epoch 275/300\n",
            "17/17 [==============================] - 0s 6ms/step - loss: 1.9948 - val_loss: 1.9477\n",
            "Epoch 276/300\n",
            "17/17 [==============================] - 0s 6ms/step - loss: 1.9961 - val_loss: 1.9539\n",
            "Epoch 277/300\n",
            "17/17 [==============================] - 0s 6ms/step - loss: 1.9932 - val_loss: 1.9463\n",
            "Epoch 278/300\n",
            "17/17 [==============================] - 0s 6ms/step - loss: 1.9964 - val_loss: 1.9349\n",
            "Epoch 279/300\n",
            "17/17 [==============================] - 0s 6ms/step - loss: 1.9941 - val_loss: 1.9422\n",
            "Epoch 280/300\n",
            "17/17 [==============================] - 0s 5ms/step - loss: 1.9913 - val_loss: 1.9498\n",
            "Epoch 281/300\n",
            "17/17 [==============================] - 0s 5ms/step - loss: 1.9895 - val_loss: 1.9473\n",
            "Epoch 282/300\n",
            "17/17 [==============================] - 0s 6ms/step - loss: 1.9896 - val_loss: 1.9548\n",
            "Epoch 283/300\n",
            "17/17 [==============================] - 0s 5ms/step - loss: 1.9891 - val_loss: 1.9496\n",
            "Epoch 284/300\n",
            "17/17 [==============================] - 0s 6ms/step - loss: 1.9886 - val_loss: 1.9558\n",
            "Epoch 285/300\n",
            "17/17 [==============================] - 0s 5ms/step - loss: 1.9890 - val_loss: 1.9449\n",
            "Epoch 286/300\n",
            "17/17 [==============================] - 0s 6ms/step - loss: 1.9928 - val_loss: 1.9332\n",
            "Epoch 287/300\n",
            "17/17 [==============================] - 0s 5ms/step - loss: 1.9953 - val_loss: 1.9340\n",
            "Epoch 288/300\n",
            "17/17 [==============================] - 0s 6ms/step - loss: 1.9877 - val_loss: 1.9485\n",
            "Epoch 289/300\n",
            "17/17 [==============================] - 0s 5ms/step - loss: 1.9873 - val_loss: 1.9597\n",
            "Epoch 290/300\n",
            "17/17 [==============================] - 0s 5ms/step - loss: 1.9882 - val_loss: 1.9521\n",
            "Epoch 291/300\n",
            "17/17 [==============================] - 0s 6ms/step - loss: 1.9883 - val_loss: 1.9581\n",
            "Epoch 292/300\n",
            "17/17 [==============================] - 0s 5ms/step - loss: 1.9934 - val_loss: 1.9478\n",
            "Epoch 293/300\n",
            "17/17 [==============================] - 0s 6ms/step - loss: 1.9900 - val_loss: 1.9574\n",
            "Epoch 294/300\n",
            "17/17 [==============================] - 0s 6ms/step - loss: 1.9842 - val_loss: 1.9389\n",
            "Epoch 295/300\n",
            "17/17 [==============================] - 0s 5ms/step - loss: 1.9862 - val_loss: 1.9578\n",
            "Epoch 296/300\n",
            "17/17 [==============================] - 0s 6ms/step - loss: 1.9850 - val_loss: 1.9599\n",
            "Epoch 297/300\n",
            "17/17 [==============================] - 0s 6ms/step - loss: 1.9866 - val_loss: 1.9494\n",
            "Epoch 298/300\n",
            "17/17 [==============================] - 0s 6ms/step - loss: 1.9838 - val_loss: 1.9465\n",
            "Epoch 299/300\n",
            "17/17 [==============================] - 0s 6ms/step - loss: 1.9812 - val_loss: 1.9412\n",
            "Epoch 300/300\n",
            "17/17 [==============================] - 0s 6ms/step - loss: 1.9818 - val_loss: 1.9464\n"
          ],
          "name": "stdout"
        }
      ]
    },
    {
      "cell_type": "markdown",
      "metadata": {
        "id": "u1-OUsN-8De-"
      },
      "source": [
        "Here is the summary of the model arhictecture."
      ]
    },
    {
      "cell_type": "code",
      "metadata": {
        "colab": {
          "base_uri": "https://localhost:8080/"
        },
        "id": "vF9kZxt6F2ni",
        "outputId": "3a89f125-5c20-4717-b187-a1284fe4e182"
      },
      "source": [
        "model.summary()"
      ],
      "execution_count": null,
      "outputs": [
        {
          "output_type": "stream",
          "text": [
            "Model: \"sequential_3\"\n",
            "_________________________________________________________________\n",
            "Layer (type)                 Output Shape              Param #   \n",
            "=================================================================\n",
            "dense_features (DenseFeature multiple                  0         \n",
            "_________________________________________________________________\n",
            "lambda_1 (Lambda)            multiple                  0         \n",
            "_________________________________________________________________\n",
            "conv1d_1 (Conv1D)            multiple                  192       \n",
            "_________________________________________________________________\n",
            "flatten_1 (Flatten)          multiple                  0         \n",
            "_________________________________________________________________\n",
            "dense_9 (Dense)              multiple                  61568     \n",
            "_________________________________________________________________\n",
            "dense_10 (Dense)             multiple                  8256      \n",
            "_________________________________________________________________\n",
            "dense_11 (Dense)             multiple                  65        \n",
            "=================================================================\n",
            "Total params: 70,081\n",
            "Trainable params: 70,081\n",
            "Non-trainable params: 0\n",
            "_________________________________________________________________\n"
          ],
          "name": "stdout"
        }
      ]
    },
    {
      "cell_type": "markdown",
      "metadata": {
        "id": "5YTflQjc8H39"
      },
      "source": [
        "Here we can analyze the loss plot. Both training loss and validation loss descend nicely."
      ]
    },
    {
      "cell_type": "code",
      "metadata": {
        "trusted": true,
        "id": "QtOipvL0BPDb",
        "colab": {
          "base_uri": "https://localhost:8080/",
          "height": 329
        },
        "outputId": "dd96dd8c-1765-4655-820b-7a5a52b21861"
      },
      "source": [
        "import matplotlib.image  as mpimg\n",
        "import matplotlib.pyplot as plt\n",
        "\n",
        "loss=history.history['loss']\n",
        "val_loss = history.history['val_loss']\n",
        "\n",
        "epochs=range(len(loss)) # Get number of epochs\n",
        "\n",
        "plt.plot(epochs, loss, 'r')\n",
        "plt.plot(epochs, val_loss, 'b')\n",
        "plt.title('Loss')\n",
        "plt.xlabel(\"Epochs\")\n",
        "plt.ylabel(\"Accuracy\")\n",
        "plt.legend([\"Loss\", \"Val Loss\"])\n",
        "\n",
        "plt.figure()"
      ],
      "execution_count": null,
      "outputs": [
        {
          "output_type": "execute_result",
          "data": {
            "text/plain": [
              "<Figure size 432x288 with 0 Axes>"
            ]
          },
          "metadata": {
            "tags": []
          },
          "execution_count": 35
        },
        {
          "output_type": "display_data",
          "data": {
            "image/png": "[encoded data removed]",
            "text/plain": [
              "<Figure size 432x288 with 1 Axes>"
            ]
          },
          "metadata": {
            "tags": [],
            "needs_background": "light"
          }
        },
        {
          "output_type": "display_data",
          "data": {
            "text/plain": [
              "<Figure size 432x288 with 0 Axes>"
            ]
          },
          "metadata": {
            "tags": []
          }
        }
      ]
    },
    {
      "cell_type": "markdown",
      "metadata": {
        "id": "9FjMegtQ8iMm"
      },
      "source": [
        "If we zoom in a little bit into the plot, we can see that the validation loss has started to stagnate at just below 2.0 of MAE."
      ]
    },
    {
      "cell_type": "code",
      "metadata": {
        "trusted": true,
        "id": "LAW2dbftBPDc",
        "colab": {
          "base_uri": "https://localhost:8080/",
          "height": 329
        },
        "outputId": "567adcec-75b2-4387-d6c1-394546474172"
      },
      "source": [
        "left_bound = 100\n",
        "right_bound = -1\n",
        "\n",
        "epochs_zoom = epochs[left_bound:right_bound]\n",
        "loss_zoom = loss[left_bound:right_bound]\n",
        "val_loss_zoom = val_loss[left_bound:right_bound]\n",
        "\n",
        "#------------------------------------------------\n",
        "# Plot Zoomed MAE and Loss\n",
        "#------------------------------------------------\n",
        "plt.plot(epochs_zoom, loss_zoom, 'r')\n",
        "plt.plot(epochs_zoom, val_loss_zoom, 'b')\n",
        "plt.title('Loss')\n",
        "plt.xlabel(\"Epochs\")\n",
        "plt.ylabel(\"Accuracy\")\n",
        "plt.legend([\"Loss\", \"Val Loss\"])\n",
        "\n",
        "plt.figure()"
      ],
      "execution_count": null,
      "outputs": [
        {
          "output_type": "execute_result",
          "data": {
            "text/plain": [
              "<Figure size 432x288 with 0 Axes>"
            ]
          },
          "metadata": {
            "tags": []
          },
          "execution_count": 38
        },
        {
          "output_type": "display_data",
          "data": {
            "image/png": "[encoded data removed]",
            "text/plain": [
              "<Figure size 432x288 with 1 Axes>"
            ]
          },
          "metadata": {
            "tags": [],
            "needs_background": "light"
          }
        },
        {
          "output_type": "display_data",
          "data": {
            "text/plain": [
              "<Figure size 432x288 with 0 Axes>"
            ]
          },
          "metadata": {
            "tags": []
          }
        }
      ]
    },
    {
      "cell_type": "markdown",
      "metadata": {
        "id": "3B4uKMCR8t_U"
      },
      "source": [
        "Lastly, we will check the performance on the test set."
      ]
    },
    {
      "cell_type": "code",
      "metadata": {
        "trusted": true,
        "id": "2HGRXgsXBPDc",
        "colab": {
          "base_uri": "https://localhost:8080/"
        },
        "outputId": "52bc8906-add6-4783-caeb-06bc17948bd6"
      },
      "source": [
        "pred = model.predict(test_ds)"
      ],
      "execution_count": null,
      "outputs": [
        {
          "output_type": "stream",
          "text": [
            "WARNING:tensorflow:Layers in a Sequential model should only have a single input tensor, but we receive a <class 'dict'> input: {'age': <tf.Tensor 'ExpandDims:0' shape=(None, 1) dtype=int64>, 'sex': <tf.Tensor 'ExpandDims_4:0' shape=(None, 1) dtype=string>, 'bmi': <tf.Tensor 'ExpandDims_1:0' shape=(None, 1) dtype=float64>, 'children': <tf.Tensor 'ExpandDims_2:0' shape=(None, 1) dtype=int64>, 'smoker': <tf.Tensor 'ExpandDims_5:0' shape=(None, 1) dtype=string>, 'region': <tf.Tensor 'ExpandDims_3:0' shape=(None, 1) dtype=string>}\n",
            "Consider rewriting this model with the Functional API.\n",
            "WARNING:tensorflow:5 out of the last 13 calls to <function Model.make_predict_function.<locals>.predict_function at 0x7fe89a6f1ef0> triggered tf.function retracing. Tracing is expensive and the excessive number of tracings could be due to (1) creating @tf.function repeatedly in a loop, (2) passing tensors with different shapes, (3) passing Python objects instead of tensors. For (1), please define your @tf.function outside of the loop. For (2), @tf.function has experimental_relax_shapes=True option that relaxes argument shapes that can avoid unnecessary retracing. For (3), please refer to https://www.tensorflow.org/guide/function#controlling_retracing and https://www.tensorflow.org/api_docs/python/tf/function for  more details.\n"
          ],
          "name": "stdout"
        }
      ]
    },
    {
      "cell_type": "markdown",
      "metadata": {
        "id": "LuCuta0_81y8"
      },
      "source": [
        "The mean absolute error on the test set is at 1.56. That means the predicted medical charge on average have confidence interval of about 1560 US dollars more or less than the predicted value."
      ]
    },
    {
      "cell_type": "code",
      "metadata": {
        "trusted": true,
        "id": "k0PrWOGxBPDd",
        "colab": {
          "base_uri": "https://localhost:8080/"
        },
        "outputId": "528b12df-8e4e-4642-c730-d84070eb1894"
      },
      "source": [
        "from sklearn import metrics\n",
        "np.sqrt(metrics.mean_absolute_error(pred, test['target']))"
      ],
      "execution_count": null,
      "outputs": [
        {
          "output_type": "execute_result",
          "data": {
            "text/plain": [
              "1.5602615799178"
            ]
          },
          "metadata": {
            "tags": []
          },
          "execution_count": 37
        }
      ]
    },
    {
      "cell_type": "markdown",
      "metadata": {
        "id": "2bj-pSG0WWof"
      },
      "source": [
        "## Save Model"
      ]
    },
    {
      "cell_type": "markdown",
      "metadata": {
        "id": "zajmGWS69QUq"
      },
      "source": [
        "The finished model can then be saved into HDF5 format to be served in the cloud."
      ]
    },
    {
      "cell_type": "code",
      "metadata": {
        "id": "PDskGlN1WQK0"
      },
      "source": [
        "from google.colab import files\n",
        "\n",
        "filename = '/content/insurance_dnn.h5'\n",
        "model.save(filename)\n",
        "files.download(filename)"
      ],
      "execution_count": null,
      "outputs": []
    }
  ]
}